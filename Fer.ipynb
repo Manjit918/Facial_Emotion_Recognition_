{
 "cells": [
  {
   "cell_type": "code",
   "execution_count": 35,
   "metadata": {
    "colab": {
     "base_uri": "https://localhost:8080/",
     "height": 666
    },
    "colab_type": "code",
    "id": "seBVSVG0g5CS",
    "outputId": "7d0841ae-9e7f-4b6d-a43e-cfc7f964cd38"
   },
   "outputs": [
    {
     "name": "stdout",
     "output_type": "stream",
     "text": [
      "Requirement already satisfied: tensorflow in /usr/local/lib/python3.6/dist-packages (2.3.0)\n",
      "Requirement already satisfied: keras-preprocessing<1.2,>=1.1.1 in /usr/local/lib/python3.6/dist-packages (from tensorflow) (1.1.2)\n",
      "Requirement already satisfied: h5py<2.11.0,>=2.10.0 in /usr/local/lib/python3.6/dist-packages (from tensorflow) (2.10.0)\n",
      "Requirement already satisfied: numpy<1.19.0,>=1.16.0 in /usr/local/lib/python3.6/dist-packages (from tensorflow) (1.18.5)\n",
      "Requirement already satisfied: termcolor>=1.1.0 in /usr/local/lib/python3.6/dist-packages (from tensorflow) (1.1.0)\n",
      "Requirement already satisfied: grpcio>=1.8.6 in /usr/local/lib/python3.6/dist-packages (from tensorflow) (1.32.0)\n",
      "Requirement already satisfied: absl-py>=0.7.0 in /usr/local/lib/python3.6/dist-packages (from tensorflow) (0.10.0)\n",
      "Requirement already satisfied: astunparse==1.6.3 in /usr/local/lib/python3.6/dist-packages (from tensorflow) (1.6.3)\n",
      "Requirement already satisfied: google-pasta>=0.1.8 in /usr/local/lib/python3.6/dist-packages (from tensorflow) (0.2.0)\n",
      "Requirement already satisfied: tensorboard<3,>=2.3.0 in /usr/local/lib/python3.6/dist-packages (from tensorflow) (2.3.0)\n",
      "Requirement already satisfied: protobuf>=3.9.2 in /usr/local/lib/python3.6/dist-packages (from tensorflow) (3.12.4)\n",
      "Requirement already satisfied: wheel>=0.26 in /usr/local/lib/python3.6/dist-packages (from tensorflow) (0.35.1)\n",
      "Requirement already satisfied: tensorflow-estimator<2.4.0,>=2.3.0 in /usr/local/lib/python3.6/dist-packages (from tensorflow) (2.3.0)\n",
      "Requirement already satisfied: scipy==1.4.1 in /usr/local/lib/python3.6/dist-packages (from tensorflow) (1.4.1)\n",
      "Requirement already satisfied: wrapt>=1.11.1 in /usr/local/lib/python3.6/dist-packages (from tensorflow) (1.12.1)\n",
      "Requirement already satisfied: gast==0.3.3 in /usr/local/lib/python3.6/dist-packages (from tensorflow) (0.3.3)\n",
      "Requirement already satisfied: six>=1.12.0 in /usr/local/lib/python3.6/dist-packages (from tensorflow) (1.15.0)\n",
      "Requirement already satisfied: opt-einsum>=2.3.2 in /usr/local/lib/python3.6/dist-packages (from tensorflow) (3.3.0)\n",
      "Requirement already satisfied: markdown>=2.6.8 in /usr/local/lib/python3.6/dist-packages (from tensorboard<3,>=2.3.0->tensorflow) (3.2.2)\n",
      "Requirement already satisfied: setuptools>=41.0.0 in /usr/local/lib/python3.6/dist-packages (from tensorboard<3,>=2.3.0->tensorflow) (50.3.0)\n",
      "Requirement already satisfied: tensorboard-plugin-wit>=1.6.0 in /usr/local/lib/python3.6/dist-packages (from tensorboard<3,>=2.3.0->tensorflow) (1.7.0)\n",
      "Requirement already satisfied: google-auth<2,>=1.6.3 in /usr/local/lib/python3.6/dist-packages (from tensorboard<3,>=2.3.0->tensorflow) (1.17.2)\n",
      "Requirement already satisfied: google-auth-oauthlib<0.5,>=0.4.1 in /usr/local/lib/python3.6/dist-packages (from tensorboard<3,>=2.3.0->tensorflow) (0.4.1)\n",
      "Requirement already satisfied: requests<3,>=2.21.0 in /usr/local/lib/python3.6/dist-packages (from tensorboard<3,>=2.3.0->tensorflow) (2.23.0)\n",
      "Requirement already satisfied: werkzeug>=0.11.15 in /usr/local/lib/python3.6/dist-packages (from tensorboard<3,>=2.3.0->tensorflow) (1.0.1)\n",
      "Requirement already satisfied: importlib-metadata; python_version < \"3.8\" in /usr/local/lib/python3.6/dist-packages (from markdown>=2.6.8->tensorboard<3,>=2.3.0->tensorflow) (1.7.0)\n",
      "Requirement already satisfied: rsa<5,>=3.1.4; python_version >= \"3\" in /usr/local/lib/python3.6/dist-packages (from google-auth<2,>=1.6.3->tensorboard<3,>=2.3.0->tensorflow) (4.6)\n",
      "Requirement already satisfied: pyasn1-modules>=0.2.1 in /usr/local/lib/python3.6/dist-packages (from google-auth<2,>=1.6.3->tensorboard<3,>=2.3.0->tensorflow) (0.2.8)\n",
      "Requirement already satisfied: cachetools<5.0,>=2.0.0 in /usr/local/lib/python3.6/dist-packages (from google-auth<2,>=1.6.3->tensorboard<3,>=2.3.0->tensorflow) (4.1.1)\n",
      "Requirement already satisfied: requests-oauthlib>=0.7.0 in /usr/local/lib/python3.6/dist-packages (from google-auth-oauthlib<0.5,>=0.4.1->tensorboard<3,>=2.3.0->tensorflow) (1.3.0)\n",
      "Requirement already satisfied: chardet<4,>=3.0.2 in /usr/local/lib/python3.6/dist-packages (from requests<3,>=2.21.0->tensorboard<3,>=2.3.0->tensorflow) (3.0.4)\n",
      "Requirement already satisfied: certifi>=2017.4.17 in /usr/local/lib/python3.6/dist-packages (from requests<3,>=2.21.0->tensorboard<3,>=2.3.0->tensorflow) (2020.6.20)\n",
      "Requirement already satisfied: idna<3,>=2.5 in /usr/local/lib/python3.6/dist-packages (from requests<3,>=2.21.0->tensorboard<3,>=2.3.0->tensorflow) (2.10)\n",
      "Requirement already satisfied: urllib3!=1.25.0,!=1.25.1,<1.26,>=1.21.1 in /usr/local/lib/python3.6/dist-packages (from requests<3,>=2.21.0->tensorboard<3,>=2.3.0->tensorflow) (1.24.3)\n",
      "Requirement already satisfied: zipp>=0.5 in /usr/local/lib/python3.6/dist-packages (from importlib-metadata; python_version < \"3.8\"->markdown>=2.6.8->tensorboard<3,>=2.3.0->tensorflow) (3.1.0)\n",
      "Requirement already satisfied: pyasn1>=0.1.3 in /usr/local/lib/python3.6/dist-packages (from rsa<5,>=3.1.4; python_version >= \"3\"->google-auth<2,>=1.6.3->tensorboard<3,>=2.3.0->tensorflow) (0.4.8)\n",
      "Requirement already satisfied: oauthlib>=3.0.0 in /usr/local/lib/python3.6/dist-packages (from requests-oauthlib>=0.7.0->google-auth-oauthlib<0.5,>=0.4.1->tensorboard<3,>=2.3.0->tensorflow) (3.1.0)\n"
     ]
    }
   ],
   "source": [
    "!pip install tensorflow"
   ]
  },
  {
   "cell_type": "code",
   "execution_count": 36,
   "metadata": {
    "colab": {},
    "colab_type": "code",
    "id": "tpL91jmghEww"
   },
   "outputs": [],
   "source": [
    "import tensorflow as tf"
   ]
  },
  {
   "cell_type": "code",
   "execution_count": 37,
   "metadata": {
    "colab": {},
    "colab_type": "code",
    "id": "z1cL57OqhKCg"
   },
   "outputs": [],
   "source": [
    "from tensorflow.keras.preprocessing.image import ImageDataGenerator as IDG"
   ]
  },
  {
   "cell_type": "code",
   "execution_count": 38,
   "metadata": {
    "colab": {},
    "colab_type": "code",
    "id": "5HbZKXuWrsdP"
   },
   "outputs": [],
   "source": [
    "from tensorflow import keras"
   ]
  },
  {
   "cell_type": "code",
   "execution_count": 39,
   "metadata": {
    "colab": {},
    "colab_type": "code",
    "id": "orZ6lacsrskG"
   },
   "outputs": [],
   "source": [
    "from tensorflow.keras.models import Sequential"
   ]
  },
  {
   "cell_type": "code",
   "execution_count": 40,
   "metadata": {
    "colab": {},
    "colab_type": "code",
    "id": "PCoNa4qArspO"
   },
   "outputs": [],
   "source": [
    "from tensorflow.keras.layers import Dense, Conv2D, Flatten, Dropout, MaxPooling2D, Activation,BatchNormalization"
   ]
  },
  {
   "cell_type": "code",
   "execution_count": 41,
   "metadata": {
    "colab": {},
    "colab_type": "code",
    "id": "tj34GnI1rswq"
   },
   "outputs": [],
   "source": [
    "from tensorflow.keras.preprocessing import image"
   ]
  },
  {
   "cell_type": "code",
   "execution_count": 32,
   "metadata": {
    "colab": {
     "base_uri": "https://localhost:8080/",
     "height": 411
    },
    "colab_type": "code",
    "id": "e9ZGNmnQrssa",
    "outputId": "47a1e78c-9e04-49c8-a5c9-c3c2f5737f4b"
   },
   "outputs": [
    {
     "name": "stdout",
     "output_type": "stream",
     "text": [
      "The name is too long, 635 chars total.\n",
      "Trying to shorten...\n",
      "New name is l.php?u=https:%2F%2Fstorage.googleapis.com%2Fkaggle-data-sets%2F31050%2F39603%2Fcompressed%2Ffer2013.csv.zip?GoogleAccessId=gcp-kaggle-com%40kaggle-161607.iam.gserviceaccount.com&Expires=1600294842&Signature=I9XRdIXgPEz3WxpzKTyZtmWN1IlD.\n",
      "--2020-09-15 15:03:26--  https://l.facebook.com/l.php?u=https%3A%2F%2Fstorage.googleapis.com%2Fkaggle-data-sets%2F31050%252F39603%252Fcompressed%252Ffer2013.csv.zip%3FGoogleAccessId%3Dgcp-kaggle-com%2540kaggle-161607.iam.gserviceaccount.com%26Expires%3D1600294842%26Signature%3DI9XRdIXgPEz3WxpzKTyZtmWN1IlDdLf4denFZXdgmVQuAeH94QPDBvoTuPX0EyVAStti8MShOeuskuYL6ZtLNoSjs8fHbTJcbpm%252F3rSpx6PmSIEcXTnODdYqXVbBJdH241Cj1NvPikP9bny0mf7PYSnf7wFjbTnCZbTRmCmOzfRA%252BrZD7ooEBj8miVUuk02%252Fe37aKByDsvrb8nLwZMoGUWcGQX4qjkr2cFftt4vC4d%252F95nPwTYZo2d1AVF2BZGl3Ha1QzZmng7gcGcdIJ1n1BF3nvr1Uyw2SQRgaLTX9uNSkuAstKUcxc3C9svjQA75s791%252BL5sTMM0ow5GGw1CZcg%253D%253D%26fbclid%3DIwAR10JaD8k5J6Pcpi84fpYShzC25UeG-q2M58c7MLOxP0CpSdCziXzwDI1ug\n",
      "Resolving l.facebook.com (l.facebook.com)... 157.240.18.36, 2a03:2880:f127:84:face:b00c:0:14c9\n",
      "Connecting to l.facebook.com (l.facebook.com)|157.240.18.36|:443... connected.\n",
      "HTTP request sent, awaiting response... 302 Found\n",
      "Location: https://www.facebook.com/unsupportedbrowser [following]\n",
      "The name is too long, 635 chars total.\n",
      "Trying to shorten...\n",
      "New name is l.php?u=https:%2F%2Fstorage.googleapis.com%2Fkaggle-data-sets%2F31050%2F39603%2Fcompressed%2Ffer2013.csv.zip?GoogleAccessId=gcp-kaggle-com%40kaggle-161607.iam.gserviceaccount.com&Expires=1600294842&Signature=I9XRdIXgPEz3WxpzKTyZtmWN1IlD.\n",
      "--2020-09-15 15:03:26--  https://www.facebook.com/unsupportedbrowser\n",
      "Resolving www.facebook.com (www.facebook.com)... 157.240.18.35, 2a03:2880:f127:83:face:b00c:0:25de\n",
      "Connecting to www.facebook.com (www.facebook.com)|157.240.18.35|:443... connected.\n",
      "HTTP request sent, awaiting response... 200 OK\n",
      "Length: unspecified [text/html]\n",
      "Saving to: ‘l.php?u=https:%2F%2Fstorage.googleapis.com%2Fkaggle-data-sets%2F31050%2F39603%2Fcompressed%2Ffer2013.csv.zip?GoogleAccessId=gcp-kaggle-com%40kaggle-161607.iam.gserviceaccount.com&Expires=1600294842&Signature=I9XRdIXgPEz3WxpzKTyZtmWN1IlD’\n",
      "\n",
      "\r",
      "          l.php?u=h     [<=>                 ]       0  --.-KB/s               \r",
      "l.php?u=https:%2F%2     [ <=>                ] 140.29K  --.-KB/s    in 0.03s   \n",
      "\n",
      "2020-09-15 15:03:27 (4.18 MB/s) - ‘l.php?u=https:%2F%2Fstorage.googleapis.com%2Fkaggle-data-sets%2F31050%2F39603%2Fcompressed%2Ffer2013.csv.zip?GoogleAccessId=gcp-kaggle-com%40kaggle-161607.iam.gserviceaccount.com&Expires=1600294842&Signature=I9XRdIXgPEz3WxpzKTyZtmWN1IlD’ saved [143657]\n",
      "\n"
     ]
    }
   ],
   "source": [
    "#!wget https://www.dropbox.com/home/fer2013.csv"
   ]
  },
  {
   "cell_type": "code",
   "execution_count": 42,
   "metadata": {
    "colab": {
     "base_uri": "https://localhost:8080/",
     "height": 51
    },
    "colab_type": "code",
    "id": "VjfV4PGVrsmx",
    "outputId": "badb205e-92eb-40b0-8ffe-4d1b2a9d0939"
   },
   "outputs": [
    {
     "name": "stdout",
     "output_type": "stream",
     "text": [
      "Archive:  /content/fer2013.zip\n",
      "  inflating: fer2013.csv             \n"
     ]
    }
   ],
   "source": [
    "!unzip /content/fer2013.zip"
   ]
  },
  {
   "cell_type": "code",
   "execution_count": 43,
   "metadata": {
    "colab": {},
    "colab_type": "code",
    "id": "guSGMEhGs8kg"
   },
   "outputs": [],
   "source": [
    "import pandas as pd\n",
    "import numpy as np"
   ]
  },
  {
   "cell_type": "code",
   "execution_count": 44,
   "metadata": {
    "colab": {},
    "colab_type": "code",
    "id": "oNdQsRMPjmE1"
   },
   "outputs": [],
   "source": [
    "df= pd.read_csv(r\"/content/fer2013.csv\")"
   ]
  },
  {
   "cell_type": "code",
   "execution_count": 45,
   "metadata": {
    "colab": {
     "base_uri": "https://localhost:8080/",
     "height": 204
    },
    "colab_type": "code",
    "id": "fp5eKzOzjrJe",
    "outputId": "a479c33d-155d-42fd-d231-4509a24e4c5b"
   },
   "outputs": [
    {
     "data": {
      "text/html": [
       "<div>\n",
       "<style scoped>\n",
       "    .dataframe tbody tr th:only-of-type {\n",
       "        vertical-align: middle;\n",
       "    }\n",
       "\n",
       "    .dataframe tbody tr th {\n",
       "        vertical-align: top;\n",
       "    }\n",
       "\n",
       "    .dataframe thead th {\n",
       "        text-align: right;\n",
       "    }\n",
       "</style>\n",
       "<table border=\"1\" class=\"dataframe\">\n",
       "  <thead>\n",
       "    <tr style=\"text-align: right;\">\n",
       "      <th></th>\n",
       "      <th>emotion</th>\n",
       "      <th>pixels</th>\n",
       "      <th>Usage</th>\n",
       "    </tr>\n",
       "  </thead>\n",
       "  <tbody>\n",
       "    <tr>\n",
       "      <th>0</th>\n",
       "      <td>0</td>\n",
       "      <td>70 80 82 72 58 58 60 63 54 58 60 48 89 115 121...</td>\n",
       "      <td>Training</td>\n",
       "    </tr>\n",
       "    <tr>\n",
       "      <th>1</th>\n",
       "      <td>0</td>\n",
       "      <td>151 150 147 155 148 133 111 140 170 174 182 15...</td>\n",
       "      <td>Training</td>\n",
       "    </tr>\n",
       "    <tr>\n",
       "      <th>2</th>\n",
       "      <td>2</td>\n",
       "      <td>231 212 156 164 174 138 161 173 182 200 106 38...</td>\n",
       "      <td>Training</td>\n",
       "    </tr>\n",
       "    <tr>\n",
       "      <th>3</th>\n",
       "      <td>4</td>\n",
       "      <td>24 32 36 30 32 23 19 20 30 41 21 22 32 34 21 1...</td>\n",
       "      <td>Training</td>\n",
       "    </tr>\n",
       "    <tr>\n",
       "      <th>4</th>\n",
       "      <td>6</td>\n",
       "      <td>4 0 0 0 0 0 0 0 0 0 0 0 3 15 23 28 48 50 58 84...</td>\n",
       "      <td>Training</td>\n",
       "    </tr>\n",
       "  </tbody>\n",
       "</table>\n",
       "</div>"
      ],
      "text/plain": [
       "   emotion                                             pixels     Usage\n",
       "0        0  70 80 82 72 58 58 60 63 54 58 60 48 89 115 121...  Training\n",
       "1        0  151 150 147 155 148 133 111 140 170 174 182 15...  Training\n",
       "2        2  231 212 156 164 174 138 161 173 182 200 106 38...  Training\n",
       "3        4  24 32 36 30 32 23 19 20 30 41 21 22 32 34 21 1...  Training\n",
       "4        6  4 0 0 0 0 0 0 0 0 0 0 0 3 15 23 28 48 50 58 84...  Training"
      ]
     },
     "execution_count": 45,
     "metadata": {
      "tags": []
     },
     "output_type": "execute_result"
    }
   ],
   "source": [
    "df.head()"
   ]
  },
  {
   "cell_type": "code",
   "execution_count": 46,
   "metadata": {
    "colab": {
     "base_uri": "https://localhost:8080/",
     "height": 34
    },
    "colab_type": "code",
    "id": "vJe1UAcvjsvj",
    "outputId": "7a267da5-c76b-4e76-bf5e-6501e23d99aa"
   },
   "outputs": [
    {
     "data": {
      "text/plain": [
       "(35887, 3)"
      ]
     },
     "execution_count": 46,
     "metadata": {
      "tags": []
     },
     "output_type": "execute_result"
    }
   ],
   "source": [
    "df.shape"
   ]
  },
  {
   "cell_type": "code",
   "execution_count": 47,
   "metadata": {
    "colab": {
     "base_uri": "https://localhost:8080/",
     "height": 111
    },
    "colab_type": "code",
    "id": "Llp2pY9kju2s",
    "outputId": "7719061c-d248-49d8-ca70-2f569c8131f5"
   },
   "outputs": [
    {
     "data": {
      "text/html": [
       "<div>\n",
       "<style scoped>\n",
       "    .dataframe tbody tr th:only-of-type {\n",
       "        vertical-align: middle;\n",
       "    }\n",
       "\n",
       "    .dataframe tbody tr th {\n",
       "        vertical-align: top;\n",
       "    }\n",
       "\n",
       "    .dataframe thead th {\n",
       "        text-align: right;\n",
       "    }\n",
       "</style>\n",
       "<table border=\"1\" class=\"dataframe\">\n",
       "  <thead>\n",
       "    <tr style=\"text-align: right;\">\n",
       "      <th></th>\n",
       "      <th>emotion</th>\n",
       "      <th>pixels</th>\n",
       "    </tr>\n",
       "  </thead>\n",
       "  <tbody>\n",
       "    <tr>\n",
       "      <th>0</th>\n",
       "      <td>0</td>\n",
       "      <td>70 80 82 72 58 58 60 63 54 58 60 48 89 115 121...</td>\n",
       "    </tr>\n",
       "    <tr>\n",
       "      <th>1</th>\n",
       "      <td>0</td>\n",
       "      <td>151 150 147 155 148 133 111 140 170 174 182 15...</td>\n",
       "    </tr>\n",
       "  </tbody>\n",
       "</table>\n",
       "</div>"
      ],
      "text/plain": [
       "   emotion                                             pixels\n",
       "0        0  70 80 82 72 58 58 60 63 54 58 60 48 89 115 121...\n",
       "1        0  151 150 147 155 148 133 111 140 170 174 182 15..."
      ]
     },
     "execution_count": 47,
     "metadata": {
      "tags": []
     },
     "output_type": "execute_result"
    }
   ],
   "source": [
    "df = df.drop(\"Usage\",axis=1)\n",
    "df.head(2)"
   ]
  },
  {
   "cell_type": "code",
   "execution_count": 48,
   "metadata": {
    "colab": {},
    "colab_type": "code",
    "id": "tueSFR4XnyLW"
   },
   "outputs": [],
   "source": [
    "from sklearn.model_selection import train_test_split"
   ]
  },
  {
   "cell_type": "code",
   "execution_count": 49,
   "metadata": {
    "colab": {},
    "colab_type": "code",
    "id": "0tFvKADWnyTn"
   },
   "outputs": [],
   "source": [
    "train = df[\"pixels\"]\n",
    "test = df[\"emotion\"]"
   ]
  },
  {
   "cell_type": "code",
   "execution_count": 50,
   "metadata": {
    "colab": {},
    "colab_type": "code",
    "id": "f0Z0Dcl_nybD"
   },
   "outputs": [],
   "source": [
    "x_train,x_test,y_train,y_test = train_test_split(train,test,test_size=0.1,random_state=10)"
   ]
  },
  {
   "cell_type": "code",
   "execution_count": 51,
   "metadata": {
    "colab": {
     "base_uri": "https://localhost:8080/",
     "height": 34
    },
    "colab_type": "code",
    "id": "W-_JXsaLnyjk",
    "outputId": "88d4e894-5de5-4a73-9a41-33dd31c317c3"
   },
   "outputs": [
    {
     "name": "stdout",
     "output_type": "stream",
     "text": [
      "(32298,) (3589,) (32298,) (3589,)\n"
     ]
    }
   ],
   "source": [
    "print(x_train.shape,x_test.shape,y_train.shape,y_test.shape)"
   ]
  },
  {
   "cell_type": "code",
   "execution_count": 52,
   "metadata": {
    "colab": {},
    "colab_type": "code",
    "id": "u6xHoZDenyqO"
   },
   "outputs": [],
   "source": [
    "width,height =48,48"
   ]
  },
  {
   "cell_type": "code",
   "execution_count": 53,
   "metadata": {
    "colab": {},
    "colab_type": "code",
    "id": "0P1gAYk4nyww"
   },
   "outputs": [],
   "source": [
    "x_train1 =[]\n",
    "for j in x_train:\n",
    "    x_train1.append([int(p) for p in j.split()])  "
   ]
  },
  {
   "cell_type": "code",
   "execution_count": 54,
   "metadata": {
    "colab": {
     "base_uri": "https://localhost:8080/",
     "height": 34
    },
    "colab_type": "code",
    "id": "hKIJSztIny2Y",
    "outputId": "431e3502-c503-4187-f490-ed1716369e6d"
   },
   "outputs": [
    {
     "data": {
      "text/plain": [
       "(32298, 2304)"
      ]
     },
     "execution_count": 54,
     "metadata": {
      "tags": []
     },
     "output_type": "execute_result"
    }
   ],
   "source": [
    "x_train1 = np.array(x_train1)/255 #normalizing\n",
    "x_train1.shape"
   ]
  },
  {
   "cell_type": "code",
   "execution_count": 55,
   "metadata": {
    "colab": {},
    "colab_type": "code",
    "id": "CetLTOy_ny_T"
   },
   "outputs": [],
   "source": [
    "x_test1 =[]\n",
    "for i in x_test:\n",
    "    x_test1.append([int(p) for p in i.split()])"
   ]
  },
  {
   "cell_type": "code",
   "execution_count": 56,
   "metadata": {
    "colab": {
     "base_uri": "https://localhost:8080/",
     "height": 34
    },
    "colab_type": "code",
    "id": "HxN7upldnzHl",
    "outputId": "25b09755-3983-4d5d-a382-f5a0fcd87cb1"
   },
   "outputs": [
    {
     "data": {
      "text/plain": [
       "(3589, 2304)"
      ]
     },
     "execution_count": 56,
     "metadata": {
      "tags": []
     },
     "output_type": "execute_result"
    }
   ],
   "source": [
    "x_test1 = np.array(x_test1)/255 #normalizing\n",
    "x_test1.shape"
   ]
  },
  {
   "cell_type": "code",
   "execution_count": 57,
   "metadata": {
    "colab": {},
    "colab_type": "code",
    "id": "Yf3Xe5aSnzGI"
   },
   "outputs": [],
   "source": [
    "x_train1 = x_train1.reshape(x_train1.shape[0],48,48,1) #reshaping the data\n",
    "x_test1 = x_test1.reshape(x_test1.shape[0],48,48,1)"
   ]
  },
  {
   "cell_type": "code",
   "execution_count": 58,
   "metadata": {
    "colab": {
     "base_uri": "https://localhost:8080/",
     "height": 51
    },
    "colab_type": "code",
    "id": "BH63yaTAnzDs",
    "outputId": "95d52b02-4f56-4ead-ac74-fa47b0dd1f92"
   },
   "outputs": [
    {
     "name": "stdout",
     "output_type": "stream",
     "text": [
      "(32298, 48, 48, 1)\n",
      "(3589, 48, 48, 1)\n"
     ]
    }
   ],
   "source": [
    "print(x_train1.shape)\n",
    "print(x_test1.shape)"
   ]
  },
  {
   "cell_type": "code",
   "execution_count": 59,
   "metadata": {
    "colab": {
     "base_uri": "https://localhost:8080/",
     "height": 51
    },
    "colab_type": "code",
    "id": "Q12U3Dkxny9a",
    "outputId": "3618134d-13d1-4fca-81a6-321be05e2892"
   },
   "outputs": [
    {
     "name": "stdout",
     "output_type": "stream",
     "text": [
      "float64\n",
      "float64\n"
     ]
    }
   ],
   "source": [
    "print(x_train1.dtype)\n",
    "print(x_test1.dtype)"
   ]
  },
  {
   "cell_type": "code",
   "execution_count": 60,
   "metadata": {
    "colab": {},
    "colab_type": "code",
    "id": "xnKPl0-Pny6c"
   },
   "outputs": [],
   "source": [
    "#convertinf to float32\n",
    "x_train1_32 = x_train1.astype('float32')\n",
    "x_test1_32 = x_test1.astype('float32')"
   ]
  },
  {
   "cell_type": "code",
   "execution_count": 61,
   "metadata": {
    "colab": {},
    "colab_type": "code",
    "id": "0X0IkXSfnyvD"
   },
   "outputs": [],
   "source": [
    "model = Sequential()"
   ]
  },
  {
   "cell_type": "code",
   "execution_count": 62,
   "metadata": {
    "colab": {},
    "colab_type": "code",
    "id": "S411hzyfnyhq"
   },
   "outputs": [],
   "source": [
    "#layer1\n",
    "model.add(Conv2D(filters = 64,kernel_size=(5,5),input_shape=(48,48,1),padding='same'))\n",
    "model.add(Conv2D(filters = 64,kernel_size=(5,5),padding='same'))\n",
    "model.add(BatchNormalization())\n",
    "model.add(MaxPooling2D(pool_size=(2,2)))\n",
    "model.add(Activation('relu'))"
   ]
  },
  {
   "cell_type": "code",
   "execution_count": 63,
   "metadata": {
    "colab": {},
    "colab_type": "code",
    "id": "ipKn-3yJnyev"
   },
   "outputs": [],
   "source": [
    "#layer2\n",
    "model.add(Conv2D(filters = 128,kernel_size=(5,5),padding='same'))\n",
    "model.add(Conv2D(filters = 128,kernel_size=(5,5),padding='same'))\n",
    "model.add(BatchNormalization())\n",
    "model.add(MaxPooling2D(pool_size=(2,2)))\n",
    "model.add(Activation('relu'))"
   ]
  },
  {
   "cell_type": "code",
   "execution_count": 64,
   "metadata": {
    "colab": {},
    "colab_type": "code",
    "id": "xOKP9QBPnyZS"
   },
   "outputs": [],
   "source": [
    "#layer3\n",
    "model.add(Conv2D(filters = 256,kernel_size=(3,3),padding='same'))\n",
    "model.add(Conv2D(filters = 256,kernel_size=(3,3),padding='same'))\n",
    "model.add(BatchNormalization())\n",
    "model.add(MaxPooling2D(pool_size=(2,2)))\n",
    "model.add(Activation('relu'))"
   ]
  },
  {
   "cell_type": "code",
   "execution_count": 65,
   "metadata": {
    "colab": {},
    "colab_type": "code",
    "id": "FabOZpzlnyW3"
   },
   "outputs": [],
   "source": [
    "#layer4\n",
    "model.add(Flatten())\n",
    "model.add(Dense(128))\n",
    "model.add(BatchNormalization())\n",
    "model.add(Activation('relu'))\n",
    "model.add(Dropout(rate=0.25))\n",
    "model.add(Dense(7,activation='softmax'))"
   ]
  },
  {
   "cell_type": "code",
   "execution_count": 66,
   "metadata": {
    "colab": {},
    "colab_type": "code",
    "id": "-p2abq8FoLrI"
   },
   "outputs": [],
   "source": [
    "model.compile(optimizer='adam',loss='categorical_crossentropy',metrics=[\"accuracy\"])"
   ]
  },
  {
   "cell_type": "code",
   "execution_count": 67,
   "metadata": {
    "colab": {
     "base_uri": "https://localhost:8080/",
     "height": 867
    },
    "colab_type": "code",
    "id": "tGxSUhbMoL0X",
    "outputId": "2b9bd072-db61-43db-9f20-94b254a2478f"
   },
   "outputs": [
    {
     "name": "stdout",
     "output_type": "stream",
     "text": [
      "Model: \"sequential\"\n",
      "_________________________________________________________________\n",
      "Layer (type)                 Output Shape              Param #   \n",
      "=================================================================\n",
      "conv2d (Conv2D)              (None, 48, 48, 64)        1664      \n",
      "_________________________________________________________________\n",
      "conv2d_1 (Conv2D)            (None, 48, 48, 64)        102464    \n",
      "_________________________________________________________________\n",
      "batch_normalization (BatchNo (None, 48, 48, 64)        256       \n",
      "_________________________________________________________________\n",
      "max_pooling2d (MaxPooling2D) (None, 24, 24, 64)        0         \n",
      "_________________________________________________________________\n",
      "activation (Activation)      (None, 24, 24, 64)        0         \n",
      "_________________________________________________________________\n",
      "conv2d_2 (Conv2D)            (None, 24, 24, 128)       204928    \n",
      "_________________________________________________________________\n",
      "conv2d_3 (Conv2D)            (None, 24, 24, 128)       409728    \n",
      "_________________________________________________________________\n",
      "batch_normalization_1 (Batch (None, 24, 24, 128)       512       \n",
      "_________________________________________________________________\n",
      "max_pooling2d_1 (MaxPooling2 (None, 12, 12, 128)       0         \n",
      "_________________________________________________________________\n",
      "activation_1 (Activation)    (None, 12, 12, 128)       0         \n",
      "_________________________________________________________________\n",
      "conv2d_4 (Conv2D)            (None, 12, 12, 256)       295168    \n",
      "_________________________________________________________________\n",
      "conv2d_5 (Conv2D)            (None, 12, 12, 256)       590080    \n",
      "_________________________________________________________________\n",
      "batch_normalization_2 (Batch (None, 12, 12, 256)       1024      \n",
      "_________________________________________________________________\n",
      "max_pooling2d_2 (MaxPooling2 (None, 6, 6, 256)         0         \n",
      "_________________________________________________________________\n",
      "activation_2 (Activation)    (None, 6, 6, 256)         0         \n",
      "_________________________________________________________________\n",
      "flatten (Flatten)            (None, 9216)              0         \n",
      "_________________________________________________________________\n",
      "dense (Dense)                (None, 128)               1179776   \n",
      "_________________________________________________________________\n",
      "batch_normalization_3 (Batch (None, 128)               512       \n",
      "_________________________________________________________________\n",
      "activation_3 (Activation)    (None, 128)               0         \n",
      "_________________________________________________________________\n",
      "dropout (Dropout)            (None, 128)               0         \n",
      "_________________________________________________________________\n",
      "dense_1 (Dense)              (None, 7)                 903       \n",
      "=================================================================\n",
      "Total params: 2,787,015\n",
      "Trainable params: 2,785,863\n",
      "Non-trainable params: 1,152\n",
      "_________________________________________________________________\n"
     ]
    }
   ],
   "source": [
    "model.summary()"
   ]
  },
  {
   "cell_type": "code",
   "execution_count": 68,
   "metadata": {
    "colab": {},
    "colab_type": "code",
    "id": "oniTGiiHoL-I"
   },
   "outputs": [],
   "source": [
    "y_train = tf.keras.utils.to_categorical(y_train)\n",
    "y_test = tf.keras.utils.to_categorical(y_test)"
   ]
  },
  {
   "cell_type": "code",
   "execution_count": 69,
   "metadata": {
    "colab": {},
    "colab_type": "code",
    "id": "wc1rAJ_roMF4"
   },
   "outputs": [],
   "source": [
    "#fitting the model\n",
    "Epoch = 20\n",
    "Batch_size =64\n",
    "Lr =1e-3"
   ]
  },
  {
   "cell_type": "code",
   "execution_count": 70,
   "metadata": {
    "colab": {
     "base_uri": "https://localhost:8080/",
     "height": 751
    },
    "colab_type": "code",
    "id": "tICjSGxooRO7",
    "outputId": "56d54332-9cfa-4ba2-b50c-494a5210b312"
   },
   "outputs": [
    {
     "name": "stdout",
     "output_type": "stream",
     "text": [
      "Epoch 1/20\n",
      "  2/505 [..............................] - ETA: 12s - loss: 2.4820 - accuracy: 0.1797WARNING:tensorflow:Callbacks method `on_train_batch_end` is slow compared to the batch time (batch time: 0.0191s vs `on_train_batch_end` time: 0.0302s). Check your callbacks.\n",
      "505/505 [==============================] - 26s 52ms/step - loss: 1.5966 - accuracy: 0.3877 - val_loss: 1.5499 - val_accuracy: 0.3929\n",
      "Epoch 2/20\n",
      "505/505 [==============================] - 26s 51ms/step - loss: 1.2591 - accuracy: 0.5233 - val_loss: 1.3518 - val_accuracy: 0.4720\n",
      "Epoch 3/20\n",
      "505/505 [==============================] - 26s 51ms/step - loss: 1.1380 - accuracy: 0.5705 - val_loss: 1.2021 - val_accuracy: 0.5442\n",
      "Epoch 4/20\n",
      "505/505 [==============================] - 25s 50ms/step - loss: 1.0621 - accuracy: 0.6032 - val_loss: 1.1887 - val_accuracy: 0.5391\n",
      "Epoch 5/20\n",
      "505/505 [==============================] - 26s 51ms/step - loss: 0.9969 - accuracy: 0.6283 - val_loss: 1.2200 - val_accuracy: 0.5347\n",
      "Epoch 6/20\n",
      "505/505 [==============================] - 26s 51ms/step - loss: 0.9304 - accuracy: 0.6563 - val_loss: 1.2175 - val_accuracy: 0.5564\n",
      "Epoch 7/20\n",
      "505/505 [==============================] - 26s 51ms/step - loss: 0.8581 - accuracy: 0.6806 - val_loss: 1.2134 - val_accuracy: 0.5678\n",
      "Epoch 8/20\n",
      "505/505 [==============================] - 26s 51ms/step - loss: 0.7813 - accuracy: 0.7128 - val_loss: 1.2221 - val_accuracy: 0.5528\n",
      "Epoch 9/20\n",
      "505/505 [==============================] - 26s 51ms/step - loss: 0.6992 - accuracy: 0.7431 - val_loss: 1.2374 - val_accuracy: 0.5776\n",
      "Epoch 10/20\n",
      "505/505 [==============================] - 26s 51ms/step - loss: 0.6169 - accuracy: 0.7752 - val_loss: 1.1889 - val_accuracy: 0.5913\n",
      "Epoch 11/20\n",
      "505/505 [==============================] - 26s 51ms/step - loss: 0.5288 - accuracy: 0.8105 - val_loss: 1.2615 - val_accuracy: 0.6041\n",
      "Epoch 12/20\n",
      "505/505 [==============================] - 26s 51ms/step - loss: 0.4487 - accuracy: 0.8394 - val_loss: 1.4391 - val_accuracy: 0.5740\n",
      "Epoch 13/20\n",
      "505/505 [==============================] - 26s 51ms/step - loss: 0.3803 - accuracy: 0.8646 - val_loss: 1.4627 - val_accuracy: 0.6069\n",
      "Epoch 14/20\n",
      "505/505 [==============================] - 26s 51ms/step - loss: 0.3162 - accuracy: 0.8882 - val_loss: 1.4182 - val_accuracy: 0.6152\n",
      "Epoch 15/20\n",
      "505/505 [==============================] - 26s 51ms/step - loss: 0.2712 - accuracy: 0.9045 - val_loss: 1.5056 - val_accuracy: 0.6043\n",
      "Epoch 16/20\n",
      "505/505 [==============================] - 26s 51ms/step - loss: 0.2379 - accuracy: 0.9172 - val_loss: 1.7093 - val_accuracy: 0.6219\n",
      "Epoch 17/20\n",
      "505/505 [==============================] - 26s 51ms/step - loss: 0.2043 - accuracy: 0.9310 - val_loss: 1.7804 - val_accuracy: 0.6080\n",
      "Epoch 18/20\n",
      "505/505 [==============================] - 26s 51ms/step - loss: 0.1845 - accuracy: 0.9371 - val_loss: 1.8363 - val_accuracy: 0.6080\n",
      "Epoch 19/20\n",
      "505/505 [==============================] - 26s 51ms/step - loss: 0.1667 - accuracy: 0.9445 - val_loss: 1.8983 - val_accuracy: 0.6046\n",
      "Epoch 20/20\n",
      "505/505 [==============================] - 26s 51ms/step - loss: 0.1531 - accuracy: 0.9495 - val_loss: 1.9311 - val_accuracy: 0.5851\n"
     ]
    },
    {
     "data": {
      "text/plain": [
       "<tensorflow.python.keras.callbacks.History at 0x7f957868a550>"
      ]
     },
     "execution_count": 70,
     "metadata": {
      "tags": []
     },
     "output_type": "execute_result"
    }
   ],
   "source": [
    "model.fit(x_train1_32,y_train,epochs=Epoch,batch_size=Batch_size,validation_data=(x_test1_32,y_test))"
   ]
  },
  {
   "cell_type": "code",
   "execution_count": 71,
   "metadata": {
    "colab": {
     "base_uri": "https://localhost:8080/",
     "height": 105
    },
    "colab_type": "code",
    "id": "eEFRJ7NgZm6m",
    "outputId": "a5793157-fc8c-4d54-8f14-7e52793d9b17"
   },
   "outputs": [
    {
     "name": "stdout",
     "output_type": "stream",
     "text": [
      "WARNING:tensorflow:From <ipython-input-71-b12a20fe83da>:1: Sequential.predict_classes (from tensorflow.python.keras.engine.sequential) is deprecated and will be removed after 2021-01-01.\n",
      "Instructions for updating:\n",
      "Please use instead:* `np.argmax(model.predict(x), axis=-1)`,   if your model does multi-class classification   (e.g. if it uses a `softmax` last-layer activation).* `(model.predict(x) > 0.5).astype(\"int32\")`,   if your model does binary classification   (e.g. if it uses a `sigmoid` last-layer activation).\n"
     ]
    },
    {
     "data": {
      "text/plain": [
       "array([5, 2, 5, ..., 4, 4, 0])"
      ]
     },
     "execution_count": 71,
     "metadata": {
      "tags": []
     },
     "output_type": "execute_result"
    }
   ],
   "source": [
    "y_pred = model.predict_classes(x_test1_32)\n",
    "y_pred"
   ]
  },
  {
   "cell_type": "code",
   "execution_count": 72,
   "metadata": {
    "colab": {
     "base_uri": "https://localhost:8080/",
     "height": 34
    },
    "colab_type": "code",
    "id": "ExwMhaGYZxAn",
    "outputId": "ba38ef83-1fae-473b-bd60-55dc387021fa"
   },
   "outputs": [
    {
     "name": "stdout",
     "output_type": "stream",
     "text": [
      "[5 2 5 2 2 6 2 6 1 5]\n"
     ]
    }
   ],
   "source": [
    "print(y_pred[:10])"
   ]
  },
  {
   "cell_type": "code",
   "execution_count": 73,
   "metadata": {
    "colab": {
     "base_uri": "https://localhost:8080/",
     "height": 34
    },
    "colab_type": "code",
    "id": "Ujfg1RokaVp_",
    "outputId": "73ed2061-4176-42f5-a1c7-8a561b7856ca"
   },
   "outputs": [
    {
     "name": "stdout",
     "output_type": "stream",
     "text": [
      "[5 2 5 6 2 6 2 0 1 2]\n"
     ]
    }
   ],
   "source": [
    "print(np.argmax(y_test[:10],axis=1))"
   ]
  },
  {
   "cell_type": "code",
   "execution_count": 74,
   "metadata": {
    "colab": {},
    "colab_type": "code",
    "id": "WmqhiNTkasjV"
   },
   "outputs": [],
   "source": [
    "from sklearn.metrics import confusion_matrix"
   ]
  },
  {
   "cell_type": "code",
   "execution_count": 77,
   "metadata": {
    "colab": {},
    "colab_type": "code",
    "id": "5GISAZLdacUh"
   },
   "outputs": [],
   "source": [
    "confusion_mat = confusion_matrix(np.argmax(y_test,axis=1),y_pred)"
   ]
  },
  {
   "cell_type": "code",
   "execution_count": 78,
   "metadata": {
    "colab": {
     "base_uri": "https://localhost:8080/",
     "height": 136
    },
    "colab_type": "code",
    "id": "6xmsrN0Pa5ld",
    "outputId": "3527019e-68ad-454c-9e70-1010169d9573"
   },
   "outputs": [
    {
     "data": {
      "text/plain": [
       "array([[217,   5,  97,  45,  71,  26,  61],\n",
       "       [  6,  27,   4,   0,  10,   4,   1],\n",
       "       [ 45,   2, 245,  34,  87,  60,  52],\n",
       "       [ 17,   0,  30, 711,  31,  30,  48],\n",
       "       [ 65,   6, 126,  49, 254,  18,  95],\n",
       "       [  8,   0,  34,  18,   5, 326,   8],\n",
       "       [ 40,   1,  58,  62,  93,  37, 320]])"
      ]
     },
     "execution_count": 78,
     "metadata": {
      "tags": []
     },
     "output_type": "execute_result"
    }
   ],
   "source": [
    "confusion_mat"
   ]
  },
  {
   "cell_type": "code",
   "execution_count": null,
   "metadata": {
    "colab": {},
    "colab_type": "code",
    "id": "H3gjva8Mbtif"
   },
   "outputs": [],
   "source": []
  }
 ],
 "metadata": {
  "accelerator": "GPU",
  "colab": {
   "name": "Assign5.1.ipynb",
   "provenance": []
  },
  "kernelspec": {
   "display_name": "Python 3",
   "language": "python",
   "name": "python3"
  },
  "language_info": {
   "codemirror_mode": {
    "name": "ipython",
    "version": 3
   },
   "file_extension": ".py",
   "mimetype": "text/x-python",
   "name": "python",
   "nbconvert_exporter": "python",
   "pygments_lexer": "ipython3",
   "version": "3.7.6"
  }
 },
 "nbformat": 4,
 "nbformat_minor": 1
}
